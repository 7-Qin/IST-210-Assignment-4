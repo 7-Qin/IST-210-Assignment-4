{
 "cells": [
  {
   "cell_type": "markdown",
   "metadata": {
    "colab_type": "text",
    "id": "cGVNp7-FEKDi"
   },
   "source": [
    "# **Group 23: Products4U**"
   ]
  },
  {
   "cell_type": "code",
   "execution_count": 0,
   "metadata": {
    "colab": {},
    "colab_type": "code",
    "id": "RCOP2mIhDtQt"
   },
   "outputs": [],
   "source": [
    "import sqlite3"
   ]
  },
  {
   "cell_type": "markdown",
   "metadata": {
    "colab_type": "text",
    "id": "0N9DtFxZvDaN"
   },
   "source": [
    "![ER diagram](https://raw.githubusercontent.com/7-Qin/IST-210-groupproect/master/chart1.png)\n",
    "\n",
    "```\n",
    "# This is formatted as code\n",
    "```\n",
    "\n"
   ]
  },
  {
   "cell_type": "code",
   "execution_count": 10,
   "metadata": {
    "colab": {
     "base_uri": "https://localhost:8080/",
     "height": 261
    },
    "colab_type": "code",
    "id": "vlxWPfr0YZfN",
    "outputId": "c2404785-3ea4-4441-b45b-f384c11fe292"
   },
   "outputs": [
    {
     "ename": "OperationalError",
     "evalue": "ignored",
     "output_type": "error",
     "traceback": [
      "\u001b[0;31m---------------------------------------------------------------------------\u001b[0m",
      "\u001b[0;31mOperationalError\u001b[0m                          Traceback (most recent call last)",
      "\u001b[0;32m<ipython-input-10-3695d26a47d0>\u001b[0m in \u001b[0;36m<module>\u001b[0;34m()\u001b[0m\n\u001b[1;32m      6\u001b[0m \u001b[0mcursor\u001b[0m\u001b[0;34m.\u001b[0m\u001b[0mexecute\u001b[0m\u001b[0;34m(\u001b[0m\u001b[0;34m\"drop table if EXISTS Logistic\"\u001b[0m\u001b[0;34m)\u001b[0m\u001b[0;34m\u001b[0m\u001b[0;34m\u001b[0m\u001b[0m\n\u001b[1;32m      7\u001b[0m \u001b[0mcursor\u001b[0m\u001b[0;34m.\u001b[0m\u001b[0mexecute\u001b[0m\u001b[0;34m(\u001b[0m\u001b[0;34m\"drop table if EXISTS Users\"\u001b[0m\u001b[0;34m)\u001b[0m\u001b[0;34m\u001b[0m\u001b[0;34m\u001b[0m\u001b[0m\n\u001b[0;32m----> 8\u001b[0;31m \u001b[0mcursor\u001b[0m\u001b[0;34m.\u001b[0m\u001b[0mexecute\u001b[0m\u001b[0;34m(\u001b[0m\u001b[0;34m\"drop table if EXISTS Order\"\u001b[0m\u001b[0;34m)\u001b[0m\u001b[0;34m\u001b[0m\u001b[0;34m\u001b[0m\u001b[0m\n\u001b[0m\u001b[1;32m      9\u001b[0m \u001b[0mcursor\u001b[0m\u001b[0;34m.\u001b[0m\u001b[0mexecute\u001b[0m\u001b[0;34m(\u001b[0m\u001b[0;34m\"drop table if EXISTS Payment\"\u001b[0m\u001b[0;34m)\u001b[0m\u001b[0;34m\u001b[0m\u001b[0;34m\u001b[0m\u001b[0m\n\u001b[1;32m     10\u001b[0m \u001b[0mconnectionToDatabase\u001b[0m\u001b[0;34m.\u001b[0m\u001b[0mcommit\u001b[0m\u001b[0;34m(\u001b[0m\u001b[0;34m)\u001b[0m\u001b[0;34m\u001b[0m\u001b[0;34m\u001b[0m\u001b[0m\n",
      "\u001b[0;31mOperationalError\u001b[0m: near \"Order\": syntax error"
     ]
    }
   ],
   "source": [
    "connectionToDatabase = sqlite3.connect('Products4U') \n",
    "cursor = connectionToDatabase.cursor()\n",
    "\n",
    "\n",
    "cursor.execute(\"drop table if EXISTS Product\")\n",
    "cursor.execute(\"drop table if EXISTS Logistic\")\n",
    "cursor.execute(\"drop table if EXISTS Users\")\n",
    "cursor.execute(\"drop table if EXISTS Order\")\n",
    "cursor.execute(\"drop table if EXISTS Payment\")\n",
    "connectionToDatabase.commit()"
   ]
  },
  {
   "cell_type": "code",
   "execution_count": 5,
   "metadata": {
    "colab": {
     "base_uri": "https://localhost:8080/",
     "height": 281
    },
    "colab_type": "code",
    "id": "nAC5JGgzYdP7",
    "outputId": "d6afd4d3-a3fb-4e57-87ae-b587fdb64a14"
   },
   "outputs": [
    {
     "ename": "OperationalError",
     "evalue": "ignored",
     "output_type": "error",
     "traceback": [
      "\u001b[0;31m---------------------------------------------------------------------------\u001b[0m",
      "\u001b[0;31mOperationalError\u001b[0m                          Traceback (most recent call last)",
      "\u001b[0;32m<ipython-input-5-342a8912253c>\u001b[0m in \u001b[0;36m<module>\u001b[0;34m()\u001b[0m\n\u001b[1;32m      8\u001b[0m \u001b[0mconnectionToDatabase\u001b[0m\u001b[0;34m.\u001b[0m\u001b[0mcommit\u001b[0m\u001b[0;34m(\u001b[0m\u001b[0;34m)\u001b[0m\u001b[0;34m\u001b[0m\u001b[0;34m\u001b[0m\u001b[0m\n\u001b[1;32m      9\u001b[0m \u001b[0;34m\u001b[0m\u001b[0m\n\u001b[0;32m---> 10\u001b[0;31m \u001b[0mcursor\u001b[0m\u001b[0;34m.\u001b[0m\u001b[0mexecute\u001b[0m\u001b[0;34m(\u001b[0m\u001b[0;34m'''create table IF NOT EXISTS Order (Order_ID text PRIMARY KEY, Order_placed_date text, Order_total real, Order_transportation text, Order_status text, Product_ID text)'''\u001b[0m\u001b[0;34m)\u001b[0m\u001b[0;34m\u001b[0m\u001b[0;34m\u001b[0m\u001b[0m\n\u001b[0m\u001b[1;32m     11\u001b[0m \u001b[0;34m\u001b[0m\u001b[0m\n\u001b[1;32m     12\u001b[0m \u001b[0mcursor\u001b[0m\u001b[0;34m.\u001b[0m\u001b[0mexecute\u001b[0m\u001b[0;34m(\u001b[0m\u001b[0;34m'''create table IF NOT EXISTS Payment (Payment_ID text PRIMARY KEY, User_ID real, Order_ID text, Order_placed_date text, Payment_status text)'''\u001b[0m\u001b[0;34m)\u001b[0m\u001b[0;34m\u001b[0m\u001b[0;34m\u001b[0m\u001b[0m\n",
      "\u001b[0;31mOperationalError\u001b[0m: near \"Order\": syntax error"
     ]
    }
   ],
   "source": [
    "cursor.execute('''create table IF NOT EXISTS Product (Product_ID text PRIMARY KEY, Product_name text, Product_price text, Product_category text, Product_remaining_stock integer, Product_description text)''')\n",
    "connectionToDatabase.commit()\n",
    "\n",
    "cursor.execute('''create table IF NOT EXISTS Logistic (Logistic_ID text PRIMARY KEY, Order_id integer, User_ID text, Order_transportation text, Shipping_Status text)''')\n",
    "connectionToDatabase.commit()\n",
    "\n",
    "cursor.execute('''create table IF NOT EXISTS Users (User_ID text PRIMARY KEY, username text, password text, phone_number real, address text, Order_ID text)''')\n",
    "connectionToDatabase.commit()\n",
    "\n",
    "cursor.execute('''create table IF NOT EXISTS Order (Order_ID text PRIMARY KEY, Order_placed_date text, Order_total real, Order_transportation text, Order_status text, Product_ID text)''')\n",
    "\n",
    "cursor.execute('''create table IF NOT EXISTS Payment (Payment_ID text PRIMARY KEY, User_ID real, Order_ID text, Order_placed_date text, Payment_status text)''')\n",
    "connectionToDatabase.commit()\n",
    "\n",
    "connectionToDatabase.commit()"
   ]
  },
  {
   "cell_type": "code",
   "execution_count": 11,
   "metadata": {
    "colab": {
     "base_uri": "https://localhost:8080/",
     "height": 265
    },
    "colab_type": "code",
    "id": "tki6l6ynYfIU",
    "outputId": "6d0b9062-21bc-4653-8ed9-5bdd2e48dba4"
   },
   "outputs": [
    {
     "ename": "OperationalError",
     "evalue": "ignored",
     "output_type": "error",
     "traceback": [
      "\u001b[0;31m---------------------------------------------------------------------------\u001b[0m",
      "\u001b[0;31mOperationalError\u001b[0m                          Traceback (most recent call last)",
      "\u001b[0;32m<ipython-input-11-02715b2619fa>\u001b[0m in \u001b[0;36m<module>\u001b[0;34m()\u001b[0m\n\u001b[1;32m      1\u001b[0m \u001b[0;34m\u001b[0m\u001b[0m\n\u001b[0;32m----> 2\u001b[0;31m \u001b[0mcursor\u001b[0m\u001b[0;34m.\u001b[0m\u001b[0mexecute\u001b[0m\u001b[0;34m(\u001b[0m\u001b[0;34m'''INSERT INTO Product values ('A', 0500, 0630, 90 , 'QC390');'''\u001b[0m\u001b[0;34m)\u001b[0m\u001b[0;34m\u001b[0m\u001b[0;34m\u001b[0m\u001b[0m\n\u001b[0m\u001b[1;32m      3\u001b[0m \u001b[0mconnectionToDatabase\u001b[0m\u001b[0;34m.\u001b[0m\u001b[0mcommit\u001b[0m\u001b[0;34m(\u001b[0m\u001b[0;34m)\u001b[0m\u001b[0;34m\u001b[0m\u001b[0;34m\u001b[0m\u001b[0m\n\u001b[1;32m      4\u001b[0m \u001b[0mcursor\u001b[0m\u001b[0;34m.\u001b[0m\u001b[0mexecute\u001b[0m\u001b[0;34m(\u001b[0m\u001b[0;34m'''INSERT INTO Product values (\"B\", 0900, 1200, 180 , \"ZB420\");'''\u001b[0m\u001b[0;34m)\u001b[0m\u001b[0;34m\u001b[0m\u001b[0;34m\u001b[0m\u001b[0m\n\u001b[1;32m      5\u001b[0m \u001b[0mconnectionToDatabase\u001b[0m\u001b[0;34m.\u001b[0m\u001b[0mcommit\u001b[0m\u001b[0;34m(\u001b[0m\u001b[0;34m)\u001b[0m\u001b[0;34m\u001b[0m\u001b[0;34m\u001b[0m\u001b[0m\n",
      "\u001b[0;31mOperationalError\u001b[0m: no such table: Product"
     ]
    }
   ],
   "source": [
    "# uploading data to Product\n",
    "\n",
    "cursor.execute('''INSERT INTO Product values (\"Apple\",\"1200\",\"phone\",\"12\",\"Iphone\");''')\n",
    "connectionToDatabase.commit()\n",
    "cursor.execute('''INSERT INTO Product values (\"Acer\",\"900\",\"Laptop\",\"50\",\"Acer Predator\");''')\n",
    "connectionToDatabase.commit()\n",
    "cursor.execute('''INSERT INTO Product values (\"Swatch\",\"90\",\"Wrist watch\",\"10\",\"Swiss wrist watch\");''')\n",
    "connectionToDatabase.commit()\n",
    "cursor.execute('''INSERT INTO Product values (\"Samsung\",\"400\",\"LED TV\",\"30\",\"45 inch LED TV\");''')\n",
    "connectionToDatabase.commit()"
   ]
  },
  {
   "cell_type": "code",
   "execution_count": 12,
   "metadata": {
    "colab": {
     "base_uri": "https://localhost:8080/",
     "height": 265
    },
    "colab_type": "code",
    "id": "ZIAjT-zIYisa",
    "outputId": "c56db3d9-b91c-41b2-f31d-da730817b488"
   },
   "outputs": [
    {
     "ename": "OperationalError",
     "evalue": "ignored",
     "output_type": "error",
     "traceback": [
      "\u001b[0;31m---------------------------------------------------------------------------\u001b[0m",
      "\u001b[0;31mOperationalError\u001b[0m                          Traceback (most recent call last)",
      "\u001b[0;32m<ipython-input-12-7ea06a28b0c8>\u001b[0m in \u001b[0;36m<module>\u001b[0;34m()\u001b[0m\n\u001b[1;32m      1\u001b[0m \u001b[0;34m\u001b[0m\u001b[0m\n\u001b[0;32m----> 2\u001b[0;31m \u001b[0mcursor\u001b[0m\u001b[0;34m.\u001b[0m\u001b[0mexecute\u001b[0m\u001b[0;34m(\u001b[0m\u001b[0;34m'''INSERT INTO Logistic values ('A', \"YES\", \"NO\", \"NO\" , 'QC390');'''\u001b[0m\u001b[0;34m)\u001b[0m\u001b[0;34m\u001b[0m\u001b[0;34m\u001b[0m\u001b[0m\n\u001b[0m\u001b[1;32m      3\u001b[0m \u001b[0mconnectionToDatabase\u001b[0m\u001b[0;34m.\u001b[0m\u001b[0mcommit\u001b[0m\u001b[0;34m(\u001b[0m\u001b[0;34m)\u001b[0m\u001b[0;34m\u001b[0m\u001b[0;34m\u001b[0m\u001b[0m\n\u001b[1;32m      4\u001b[0m \u001b[0mcursor\u001b[0m\u001b[0;34m.\u001b[0m\u001b[0mexecute\u001b[0m\u001b[0;34m(\u001b[0m\u001b[0;34m'''INSERT INTO Logistic values (\"B\", \"NO\", \"YES\", \"NO\" , \"ZB420\");'''\u001b[0m\u001b[0;34m)\u001b[0m\u001b[0;34m\u001b[0m\u001b[0;34m\u001b[0m\u001b[0m\n\u001b[1;32m      5\u001b[0m \u001b[0mconnectionToDatabase\u001b[0m\u001b[0;34m.\u001b[0m\u001b[0mcommit\u001b[0m\u001b[0;34m(\u001b[0m\u001b[0;34m)\u001b[0m\u001b[0;34m\u001b[0m\u001b[0;34m\u001b[0m\u001b[0m\n",
      "\u001b[0;31mOperationalError\u001b[0m: no such table: Logistic"
     ]
    }
   ],
   "source": [
    "# uploading data to Logistic\n",
    "\n",
    "cursor.execute('''INSERT INTO Logistic values (\"LU001\",\"P4U001\",\"TZA38\",\"Pickup\",\"Shipped\");''')\n",
    "connectionToDatabase.commit()\n",
    "cursor.execute('''INSERT INTO Logistic values (\"LU002\",\"P4U002\",\"MJH212\",\"USPS\",\"Delivered\");''')\n",
    "connectionToDatabase.commit()\n",
    "cursor.execute('''INSERT INTO Logistic values (\"LU003\",\"P4U003\", \"KJH876\", \"UPS\" , \"Ordered\");''')\n",
    "connectionToDatabase.commit()\n",
    "cursor.execute('''INSERT INTO Logistic values (\"LU004\",\"P4U004\", \"GFD123\", \"FedEX\", \"Shippied\" );''')\n",
    "connectionToDatabase.commit()"
   ]
  },
  {
   "cell_type": "code",
   "execution_count": 13,
   "metadata": {
    "colab": {
     "base_uri": "https://localhost:8080/",
     "height": 265
    },
    "colab_type": "code",
    "id": "Wjx2AWUFYk88",
    "outputId": "d355a1c4-92bf-4c36-d58b-24ed7bf9d009"
   },
   "outputs": [
    {
     "ename": "OperationalError",
     "evalue": "ignored",
     "output_type": "error",
     "traceback": [
      "\u001b[0;31m---------------------------------------------------------------------------\u001b[0m",
      "\u001b[0;31mOperationalError\u001b[0m                          Traceback (most recent call last)",
      "\u001b[0;32m<ipython-input-13-cb79a09641ee>\u001b[0m in \u001b[0;36m<module>\u001b[0;34m()\u001b[0m\n\u001b[1;32m      1\u001b[0m \u001b[0;34m\u001b[0m\u001b[0m\n\u001b[0;32m----> 2\u001b[0;31m \u001b[0mcursor\u001b[0m\u001b[0;34m.\u001b[0m\u001b[0mexecute\u001b[0m\u001b[0;34m(\u001b[0m\u001b[0;34m'''INSERT INTO Users values ('A', \"YES\", \"NO\", \"NO\" ,\"NO\", 'QC390');'''\u001b[0m\u001b[0;34m)\u001b[0m\u001b[0;34m\u001b[0m\u001b[0;34m\u001b[0m\u001b[0m\n\u001b[0m\u001b[1;32m      3\u001b[0m \u001b[0mconnectionToDatabase\u001b[0m\u001b[0;34m.\u001b[0m\u001b[0mcommit\u001b[0m\u001b[0;34m(\u001b[0m\u001b[0;34m)\u001b[0m\u001b[0;34m\u001b[0m\u001b[0;34m\u001b[0m\u001b[0m\n\u001b[1;32m      4\u001b[0m \u001b[0mcursor\u001b[0m\u001b[0;34m.\u001b[0m\u001b[0mexecute\u001b[0m\u001b[0;34m(\u001b[0m\u001b[0;34m'''INSERT INTO Users values (\"B\", \"NO\", \"YES\", \"NO\" ,\"NO\", \"ZB420\");'''\u001b[0m\u001b[0;34m)\u001b[0m\u001b[0;34m\u001b[0m\u001b[0;34m\u001b[0m\u001b[0m\n\u001b[1;32m      5\u001b[0m \u001b[0mconnectionToDatabase\u001b[0m\u001b[0;34m.\u001b[0m\u001b[0mcommit\u001b[0m\u001b[0;34m(\u001b[0m\u001b[0;34m)\u001b[0m\u001b[0;34m\u001b[0m\u001b[0;34m\u001b[0m\u001b[0m\n",
      "\u001b[0;31mOperationalError\u001b[0m: no such table: Users"
     ]
    }
   ],
   "source": [
    "# uploading data to Users \n",
    "\n",
    "cursor.execute('''INSERT INTO Users values (\"TZA38\",\"takshanand1@gmail.com\",\"Water123\",\"8148803368\",\"Hibbs Hall\");''')\n",
    "connectionToDatabase.commit()\n",
    "cursor.execute('''INSERT INTO Users values (\"MJH212\",\"mahendrakunal@hotmail.com\",\"Gandus123\",\"814882345\",\"Chace Hall\");''')\n",
    "connectionToDatabase.commit()\n",
    "cursor.execute('''INSERT INTO Users values (\"KJH876\", \"khalilhund12@gmail.com\", \"Khalithegreat123\", \"1236587556\", \"Panofsky Hall\");''')\n",
    "connectionToDatabase.commit()\n",
    "cursor.execute('''INSERT INTO Users values (\"GFD123\",  \"guddandhakkan54@yahoo.com\", \"GUddiDOll123\",  \"9654345963\" ,\"Robinson Hall\");''')\n",
    "connectionToDatabase.commit()"
   ]
  },
  {
   "cell_type": "code",
   "execution_count": 0,
   "metadata": {
    "colab": {},
    "colab_type": "code",
    "id": "F4HGwatRYnJ4"
   },
   "outputs": [],
   "source": [
    "# uploading data to Order\n",
    "\n",
    "cursor.execute('''INSERT INTO Order values (\"P4U001\", \"11/22/2019\", \"300\", \"USPS\" , 'Delivered');''')\n",
    "connectionToDatabase.commit()\n",
    "cursor.execute('''INSERT INTO Order values (\"P4U002\", \"11/21/2019\", \"200\", \"UPS\" , \"Shipped\");''')\n",
    "connectionToDatabase.commit()\n",
    "cursor.execute('''INSERT INTO Order values (\"P4U003\", \"11/20/2019\", \"90\", \"Pick Up\" , \"Shipped\");''')\n",
    "connectionToDatabase.commit()\n",
    "cursor.execute('''INSERT INTO Order values (\"P4U004\", \"11/19/2019\", \"200\", \"FedEx\" , \"Ordered\");''')\n",
    "connectionToDatabase.commit()"
   ]
  },
  {
   "cell_type": "code",
   "execution_count": 0,
   "metadata": {
    "colab": {},
    "colab_type": "code",
    "id": "Kpw2_mo8_mLL"
   },
   "outputs": [],
   "source": [
    "# uploading data to Payment\n",
    "\n",
    "cursor.execute('''INSERT INTO Payment values (\"PA001\", \"P4U001\", \"TZA38\", \"11/22/2019\" , 'Declined');''')\n",
    "connectionToDatabase.commit()\n",
    "cursor.execute('''INSERT INTO Payment values (\"PA002\", \"P4U001\", \"TZA38\", \"11/22/2019\" , \"Processed\");''')\n",
    "connectionToDatabase.commit()\n",
    "cursor.execute('''INSERT INTO Payment values (\"PA003\", \"P4U002\", \"MJH212\", \"11/20/2019\" , \"Processed\");''')\n",
    "connectionToDatabase.commit()\n",
    "cursor.execute('''INSERT INTO Payment values (\"PA004\", \"P4U003\", \"KJH876\", \"11/19/2019\" , \"Waiting\");''')\n",
    "connectionToDatabase.commit()"
   ]
  },
  {
   "cell_type": "code",
   "execution_count": 0,
   "metadata": {
    "colab": {
     "base_uri": "https://localhost:8080/",
     "height": 85
    },
    "colab_type": "code",
    "id": "X2TUcLqgYo-t",
    "outputId": "68d18665-df90-4ea6-f223-54cf02a5506d"
   },
   "outputs": [
    {
     "name": "stdout",
     "output_type": "stream",
     "text": [
      "('A', 500, 630, 90, 'QC390')\n",
      "('B', 900, 1200, 180, 'ZB420')\n",
      "('C', 2100, 10, 190, 'WC982')\n",
      "('D', 1520, 1840, 200, 'AE333')\n"
     ]
    }
   ],
   "source": [
    "# to view all tables \n",
    "cursor.execute('''select * from Product;''')\n",
    "for i in cursor.fetchall():\n",
    "    print(i)"
   ]
  },
  {
   "cell_type": "code",
   "execution_count": 0,
   "metadata": {
    "colab": {
     "base_uri": "https://localhost:8080/",
     "height": 85
    },
    "colab_type": "code",
    "id": "RwJaY3NcYrjA",
    "outputId": "7844bf72-d395-47db-952b-b434017ddc24"
   },
   "outputs": [
    {
     "name": "stdout",
     "output_type": "stream",
     "text": [
      "('A', 'YES', 'NO', 'NO', 'QC390')\n",
      "('B', 'NO', 'YES', 'NO', 'ZB420')\n",
      "('C', 'NO', 'NO', 'YES', 'WC982')\n",
      "('D', 'YES', 'NO', 'YES', 'AE333')\n"
     ]
    }
   ],
   "source": [
    "cursor.execute('''select * from Logistic;''')\n",
    "for i in cursor.fetchall():\n",
    "    print(i)"
   ]
  },
  {
   "cell_type": "code",
   "execution_count": 0,
   "metadata": {
    "colab": {
     "base_uri": "https://localhost:8080/",
     "height": 85
    },
    "colab_type": "code",
    "id": "PQiSnbjEYta3",
    "outputId": "1c32a138-4353-4dcd-c2c4-d1279b8bc9d0"
   },
   "outputs": [
    {
     "name": "stdout",
     "output_type": "stream",
     "text": [
      "('A', 'YES', 'NO', 'NO', 'NO', 'QC390')\n",
      "('B', 'NO', 'YES', 'NO', 'NO', 'ZB420')\n",
      "('C', 'NO', 'NO', 'YES', 'NO', 'WC982')\n",
      "('D', 'NO', 'NO', 'NO', 'YES', 'AE333')\n"
     ]
    }
   ],
   "source": [
    "cursor.execute('''select * from Users;''')\n",
    "for i in cursor.fetchall():\n",
    "    print(i)"
   ]
  },
  {
   "cell_type": "code",
   "execution_count": 0,
   "metadata": {
    "colab": {
     "base_uri": "https://localhost:8080/",
     "height": 85
    },
    "colab_type": "code",
    "id": "V5OQieWVYvYy",
    "outputId": "f268c54e-1592-4f1c-ab32-6725585c7f2d"
   },
   "outputs": [
    {
     "name": "stdout",
     "output_type": "stream",
     "text": [
      "('A', 'YES', 'NO', 'NO', 'QC390')\n",
      "('B', 'NO', 'YES', 'NO', 'ZB420')\n",
      "('C', 'NO', 'NO', 'YES', 'WC982')\n",
      "('D', 'YES', 'NO', 'NO', 'AE333')\n"
     ]
    }
   ],
   "source": [
    "cursor.execute('''select * from Order;''')\n",
    "for i in cursor.fetchall():\n",
    "    print(i)"
   ]
  },
  {
   "cell_type": "code",
   "execution_count": 0,
   "metadata": {
    "colab": {
     "base_uri": "https://localhost:8080/",
     "height": 85
    },
    "colab_type": "code",
    "id": "u9Ig44lJABOt",
    "outputId": "f268c54e-1592-4f1c-ab32-6725585c7f2d"
   },
   "outputs": [
    {
     "name": "stdout",
     "output_type": "stream",
     "text": [
      "('A', 'YES', 'NO', 'NO', 'QC390')\n",
      "('B', 'NO', 'YES', 'NO', 'ZB420')\n",
      "('C', 'NO', 'NO', 'YES', 'WC982')\n",
      "('D', 'YES', 'NO', 'NO', 'AE333')\n"
     ]
    }
   ],
   "source": [
    "cursor.execute('''select * payment;''')\n",
    "for i in cursor.fetchall():\n",
    "    print(i)"
   ]
  },
  {
   "cell_type": "markdown",
   "metadata": {
    "colab_type": "text",
    "id": "cMcZeR21e3m0"
   },
   "source": [
    "**Question 1:** What days (top 3) did we make the most money?\n",
    "\n",
    "\n"
   ]
  },
  {
   "cell_type": "code",
   "execution_count": 0,
   "metadata": {
    "colab": {
     "base_uri": "https://localhost:8080/",
     "height": 85
    },
    "colab_type": "code",
    "id": "YMgpYrqgHDcV",
    "outputId": "3957bdff-577e-4cd4-e6b8-48ce379b2b11"
   },
   "outputs": [
    {
     "name": "stdout",
     "output_type": "stream",
     "text": [
      "(500, 90)\n",
      "(900, 180)\n",
      "(2100, 190)\n",
      "(1520, 200)\n"
     ]
    }
   ],
   "source": [
    "cursor.execute('''SELECT Order_placed_date FROM Order ORDER BY Order_placed_date DESC LIMIT 3;''')\n",
    "for i in cursor.fetchall():\n",
    "    print(i)"
   ]
  },
  {
   "cell_type": "markdown",
   "metadata": {
    "colab_type": "text",
    "id": "FZFQ0ODefMJb"
   },
   "source": [
    "Thanksgiving is coming soon. We need to know some consumer habits before the festival so as to better predict the sales volume during the Thanksgiving period. In this way, we can purchase goods faster to avoid the shortage of goods due to too many orders. This data really has helped us a lot."
   ]
  },
  {
   "cell_type": "markdown",
   "metadata": {
    "colab_type": "text",
    "id": "Pp3wTxV9fThn"
   },
   "source": [
    "**Question 2:** What days (top 3) did we sell the most iPhones?"
   ]
  },
  {
   "cell_type": "code",
   "execution_count": 0,
   "metadata": {
    "colab": {
     "base_uri": "https://localhost:8080/",
     "height": 85
    },
    "colab_type": "code",
    "id": "EmwcW2MN6KEQ",
    "outputId": "ae319e41-29ee-4a06-f02f-6c764148423f"
   },
   "outputs": [
    {
     "name": "stdout",
     "output_type": "stream",
     "text": [
      "('D', 1520, 1840, 200, 'AE333', 'D', 'YES', 'NO', 'YES', 'AE333')\n",
      "('C', 2100, 10, 190, 'WC982', 'C', 'NO', 'NO', 'YES', 'WC982')\n",
      "('B', 900, 1200, 180, 'ZB420', 'B', 'NO', 'YES', 'NO', 'ZB420')\n",
      "('A', 500, 630, 90, 'QC390', 'A', 'YES', 'NO', 'NO', 'QC390')\n"
     ]
    }
   ],
   "source": [
    "cursor.execute('''SELECT Product_name, Order_placed_date, Product_remaining_stock from p Product, o Order WHERE p.Product_ID=o.Order_ID AND p.Product_name=”iPhone” AND p.Product_remaining_stock ORDER BY ASC, GROUP BY o.Order_placed_date limit 3; ''')\n",
    "for i in cursor.fetchall():\n",
    "    print(i)"
   ]
  },
  {
   "cell_type": "markdown",
   "metadata": {
    "colab_type": "text",
    "id": "Cw5toN0uferb"
   },
   "source": [
    "Near the end of the year is usually a new era for all kinds of new mobile phones. Because the new iPhone has just been released, but other brands of mobile phones will soon have new products launched, so we want to know how the recent iPhone sales can help us better understand whether to purchase more iPhones now or wait for other brands to launch new products, so as to avoid too much backlog."
   ]
  },
  {
   "cell_type": "markdown",
   "metadata": {
    "colab_type": "text",
    "id": "jWtHvNxNfh8v"
   },
   "source": [
    "**Question 3:**  Which users (top 5) ordered the most products grouped by address?"
   ]
  },
  {
   "cell_type": "code",
   "execution_count": 0,
   "metadata": {
    "colab": {
     "base_uri": "https://localhost:8080/",
     "height": 34
    },
    "colab_type": "code",
    "id": "ezU3ppx_B6o3",
    "outputId": "9fcbe6ae-6a43-4dea-df81-cc5230f451ea"
   },
   "outputs": [
    {
     "name": "stdout",
     "output_type": "stream",
     "text": [
      "(165.0,)\n"
     ]
    }
   ],
   "source": [
    "cursor.execute('''select l.User_ID, count(o.Order_ID) from Order o , Logistic l where u.User_ID=l.User_ID GROUP BY address ORDER BY count(o.Order_ID) DESC limit 5; ''')\n",
    "for i in cursor.fetchall():\n",
    "    print(i)"
   ]
  },
  {
   "cell_type": "markdown",
   "metadata": {
    "colab_type": "text",
    "id": "oSaJ5IhnfnEr"
   },
   "source": [
    "This question is important because as a online store, We need to know which areas order the most products. In this way, we can better understand the shipping patterns and setup warehouses in certain areas to reduce shipping costs.And the results do match up to our expectations."
   ]
  },
  {
   "cell_type": "markdown",
   "metadata": {
    "colab_type": "text",
    "id": "q8g1rsYKhg1w"
   },
   "source": []
  }
 ],
 "metadata": {
  "colab": {
   "collapsed_sections": [],
   "name": "GroupAssignment4.ipynb",
   "provenance": []
  },
  "kernelspec": {
   "display_name": "Python 3",
   "language": "python",
   "name": "python3"
  },
  "language_info": {
   "codemirror_mode": {
    "name": "ipython",
    "version": 3
   },
   "file_extension": ".py",
   "mimetype": "text/x-python",
   "name": "python",
   "nbconvert_exporter": "python",
   "pygments_lexer": "ipython3",
   "version": "3.7.3"
  }
 },
 "nbformat": 4,
 "nbformat_minor": 1
}
